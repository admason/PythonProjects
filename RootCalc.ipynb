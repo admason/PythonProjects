{
 "cells": [
  {
   "cell_type": "code",
   "execution_count": 15,
   "metadata": {},
   "outputs": [
    {
     "name": "stdout",
     "output_type": "stream",
     "text": [
      " The 50 decimal point solution for the squre root of 100 is : 10.0\n"
     ]
    }
   ],
   "source": [
    "#Root Calculator\n",
    "# num: number subject to calculation\n",
    "# root: type of root, square=2, cubic=3,...\n",
    "# digit:length of solution\n",
    "# dp:number of decimal places in solution\n",
    "\n",
    "num=100\n",
    "root=2\n",
    "squareroot=(num)**(1/root)\n",
    "sol=1\n",
    "dp=50\n",
    "\n",
    "print(f\" The {dp} decimal point solution for the squre root of {num!s} is : {squareroot:{sol}.{dp+3}}\")"
   ]
  },
  {
   "cell_type": "code",
   "execution_count": null,
   "metadata": {},
   "outputs": [],
   "source": []
  },
  {
   "cell_type": "code",
   "execution_count": null,
   "metadata": {},
   "outputs": [],
   "source": []
  }
 ],
 "metadata": {
  "kernelspec": {
   "display_name": "Python 3",
   "language": "python",
   "name": "python3"
  },
  "language_info": {
   "codemirror_mode": {
    "name": "ipython",
    "version": 3
   },
   "file_extension": ".py",
   "mimetype": "text/x-python",
   "name": "python",
   "nbconvert_exporter": "python",
   "pygments_lexer": "ipython3",
   "version": "3.7.1"
  }
 },
 "nbformat": 4,
 "nbformat_minor": 2
}
