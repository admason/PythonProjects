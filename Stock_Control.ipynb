{
 "cells": [
  {
   "cell_type": "code",
   "execution_count": 36,
   "metadata": {},
   "outputs": [
    {
     "name": "stdout",
     "output_type": "stream",
     "text": [
      "The larger value is b= 10\n"
     ]
    }
   ],
   "source": [
    "a=6\n",
    "b=8\n",
    "if a>b:\n",
    "    a = a+2\n",
    "    b = b+2\n",
    "    print('The larger vale is a=', a)\n",
    "else:\n",
    "    a = a+2\n",
    "    b = b+2\n",
    "    print('The larger value is b=',b)\n",
    "\n"
   ]
  },
  {
   "cell_type": "code",
   "execution_count": 38,
   "metadata": {},
   "outputs": [
    {
     "name": "stdout",
     "output_type": "stream",
     "text": [
      "It's true\n"
     ]
    }
   ],
   "source": [
    "if True:\n",
    "    print(\"It's true\")"
   ]
  },
  {
   "cell_type": "code",
   "execution_count": 40,
   "metadata": {},
   "outputs": [
    {
     "name": "stdout",
     "output_type": "stream",
     "text": [
      "x was true\n"
     ]
    }
   ],
   "source": [
    "x=True\n",
    "\n",
    "if x:\n",
    "    print('x was true')\n",
    "else:\n",
    "##    print('x not true')"
   ]
  },
  {
   "cell_type": "code",
   "execution_count": 118,
   "metadata": {},
   "outputs": [
    {
     "name": "stdout",
     "output_type": "stream",
     "text": [
      " Net stock is -40, with 40 in transit, order at least 0\n"
     ]
    }
   ],
   "source": [
    "## Stock analysis:\n",
    "#  Enter total stock, back orders and quantity in transit\n",
    "# The output advises further action\n",
    "\n",
    "totalstock=10\n",
    "backorder=50\n",
    "transit=40\n",
    "\n",
    "netstock=totalstock-backorder\n",
    "net_plus_transit=totalstock-backorder+transit\n",
    "\n",
    "if netstock<=0 and net_plus_transit<=0:\n",
    "    print(f\" Net stock is {netstock}, with {transit} in transit, order at least {-1*net_plus_transit}\")\n",
    "elif net<=0 and nt>=0:\n",
    "    print(f\" Stock okay, there are {transit} copies due\")\n",
    "else:\n",
    "    print(f\" stock level= {netstock}, but {transit} on the way, do not order\")"
   ]
  },
  {
   "cell_type": "code",
   "execution_count": 45,
   "metadata": {},
   "outputs": [
    {
     "name": "stdout",
     "output_type": "stream",
     "text": [
      " The 50 decimal point solution for the squre root of 100 is : 10.0\n"
     ]
    }
   ],
   "source": [
    "num=100\n",
    "root=2\n",
    "squareroot=(num)**(1/root)\n",
    "sol=1\n",
    "dp=50\n",
    "\n",
    "print(f\" The {dp} decimal point solution for the square root of {num!s} is : {squareroot:{sol}.{dp+3}}\")\n"
   ]
  },
  {
   "cell_type": "code",
   "execution_count": 87,
   "metadata": {},
   "outputs": [
    {
     "name": "stdout",
     "output_type": "stream",
     "text": [
      " Net stock is -19, with 5 in transit, order at least 14\n"
     ]
    }
   ],
   "source": [
    "## Stock analysis:\n",
    "#  Enter total stock, back orders and quantity in transit\n",
    "# The output advises further action\n",
    "\n",
    "ts=1\n",
    "b=20\n",
    "p=5\n",
    "\n",
    "net=ts-b\n",
    "nt=ts-b+p\n",
    "\n",
    "if net<0 and nt<0:\n",
    "    print(f\" Net stock is {net}, with {p} in transit, order at least {-1*nt}\")\n",
    "elif net<0 and nt>=0:\n",
    "    print(f\" Stock okay, there are {p} copies due\")\n",
    "else:\n",
    "    print(f\" {net} in stock, do not order\")"
   ]
  },
  {
   "cell_type": "code",
   "execution_count": null,
   "metadata": {},
   "outputs": [],
   "source": []
  },
  {
   "cell_type": "code",
   "execution_count": null,
   "metadata": {},
   "outputs": [],
   "source": []
  },
  {
   "cell_type": "code",
   "execution_count": null,
   "metadata": {},
   "outputs": [],
   "source": []
  },
  {
   "cell_type": "code",
   "execution_count": null,
   "metadata": {},
   "outputs": [],
   "source": []
  },
  {
   "cell_type": "code",
   "execution_count": null,
   "metadata": {},
   "outputs": [],
   "source": []
  },
  {
   "cell_type": "code",
   "execution_count": null,
   "metadata": {},
   "outputs": [],
   "source": []
  },
  {
   "cell_type": "code",
   "execution_count": null,
   "metadata": {},
   "outputs": [],
   "source": []
  },
  {
   "cell_type": "code",
   "execution_count": null,
   "metadata": {},
   "outputs": [],
   "source": []
  }
 ],
 "metadata": {
  "kernelspec": {
   "display_name": "Python 3",
   "language": "python",
   "name": "python3"
  },
  "language_info": {
   "codemirror_mode": {
    "name": "ipython",
    "version": 3
   },
   "file_extension": ".py",
   "mimetype": "text/x-python",
   "name": "python",
   "nbconvert_exporter": "python",
   "pygments_lexer": "ipython3",
   "version": "3.7.1"
  }
 },
 "nbformat": 4,
 "nbformat_minor": 2
}
